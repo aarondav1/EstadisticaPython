{
  "nbformat": 4,
  "nbformat_minor": 0,
  "metadata": {
    "colab": {
      "name": "Untitled1.ipynb",
      "provenance": [],
      "authorship_tag": "ABX9TyNh6JEF6NgEY/tdPHP1dnTa",
      "include_colab_link": true
    },
    "kernelspec": {
      "name": "python3",
      "display_name": "Python 3"
    }
  },
  "cells": [
    {
      "cell_type": "markdown",
      "metadata": {
        "id": "view-in-github",
        "colab_type": "text"
      },
      "source": [
        "<a href=\"https://colab.research.google.com/github/aarondav85/EstadisticaPython/blob/master/DatosAtipicos.ipynb\" target=\"_parent\"><img src=\"https://colab.research.google.com/assets/colab-badge.svg\" alt=\"Open In Colab\"/></a>"
      ]
    },
    {
      "cell_type": "code",
      "metadata": {
        "id": "lenNkSNyd515",
        "outputId": "bb25e4cf-def7-4231-9dac-df2ce0f05943",
        "colab": {
          "base_uri": "https://localhost:8080/",
          "height": 833
        }
      },
      "source": [
        "import pandas as pd\n",
        "import numpy as np\n",
        "\n",
        "df = pd.read_excel(\"Dataset Proyecto Final Estadistica.xlsx\")\n",
        "\n",
        "def DatosAtipicos(df, variable):\n",
        "  iqr = df.quantile(0.75) - df.quantile(0.25)\n",
        "  BigoteInferior = (df.quantile(0.25) - 1.5 * iqr)\n",
        "  BigoteSuperior = (df.quantile(0.75) + 1.5 * iqr)\n",
        "  indiceOutliers = (df < BigoteInferior) | (df > BigoteSuperior)\n",
        "  ValoresAtipicos = df[indiceOutliers]\n",
        "  if ValoresAtipicos.empty:\n",
        "    print(\"\\nNo hay valores atipicos\")\n",
        "    print(\"Name:\",variable)\n",
        "  else:\n",
        "    print(\"\")\n",
        "    print(ValoresAtipicos)\n",
        "\n",
        "DatosAtipicos(df[' P o t e n c i a   A c t i v a   A N   M e d '], \"Potencia Activa AN Med\")\n",
        "DatosAtipicos(df[' P o t e n c i a   A c t i v a   B N   M e d '], \"Potencia Activa BN Med\")\n",
        "DatosAtipicos(df[' P o t e n c i a   A c t i v a   C N   M e d '], \"Potencia Activa CN Med\")\n",
        "DatosAtipicos(df[' P o t e n c i a   A c t i v a   T o t a l   M e d '], \"Potencia Activa Total Med\")\n",
        "DatosAtipicos(df[' P o t e n c i a   R e a c t i v a   A N   M e d '], \"Potencia Reactiva AN Med\")\n",
        "DatosAtipicos(df[' P o t e n c i a   R e a c t i v a   B N   M e d '], \"Potencia Reactiva BN Med\")\n",
        "DatosAtipicos(df[' P o t e n c i a   R e a c t i v a   C N   M e d '], \"Potencia Reactiva CN Med\")\n",
        "DatosAtipicos(df[' P o t e n c i a   R e a c t i v a   T o t a l   M e d '], \"Potencia Reactiva Total Med\")\n",
        "DatosAtipicos(df[' F a c t o r   d e   P o t e n c i a   A N   M e d '], \"Factor De Potencia AN Med\")\n",
        "DatosAtipicos(df[' F a c t o r   d e   P o t e n c i a   B N   M e d '], \"Factor De Potencia BN Med\")\n",
        "DatosAtipicos(df[' F a c t o r   d e   P o t e n c i a   C N   M e d '], \"Factor De Potencia CN Med\")\n",
        "DatosAtipicos(df[' F a c t o r   d e   P o t e n c i a   T o t a l   M e d '], \"Factor De Potencia Total Med\")"
      ],
      "execution_count": 74,
      "outputs": [
        {
          "output_type": "stream",
          "text": [
            "\n",
            "No hay valores atipicos\n",
            "Name: Potencia Activa AN Med\n",
            "\n",
            "No hay valores atipicos\n",
            "Name: Potencia Activa BN Med\n",
            "\n",
            "No hay valores atipicos\n",
            "Name: Potencia Activa CN Med\n",
            "\n",
            "No hay valores atipicos\n",
            "Name: Potencia Activa Total Med\n",
            "\n",
            "No hay valores atipicos\n",
            "Name: Potencia Reactiva AN Med\n",
            "\n",
            "2882    12300\n",
            "2912    11940\n",
            "5545    11800\n",
            "Name:  P o t e n c i a   R e a c t i v a   B N   M e d , dtype: int64\n",
            "\n",
            "No hay valores atipicos\n",
            "Name: Potencia Reactiva CN Med\n",
            "\n",
            "No hay valores atipicos\n",
            "Name: Potencia Reactiva Total Med\n",
            "\n",
            "961     0.85\n",
            "962     0.86\n",
            "963     0.86\n",
            "964     0.84\n",
            "965     0.83\n",
            "        ... \n",
            "4881    0.89\n",
            "4882    0.90\n",
            "4883    0.90\n",
            "4884    0.87\n",
            "4885    0.88\n",
            "Name:  F a c t o r   d e   P o t e n c i a   A N   M e d , Length: 986, dtype: float64\n",
            "\n",
            "No hay valores atipicos\n",
            "Name: Factor De Potencia BN Med\n",
            "\n",
            "No hay valores atipicos\n",
            "Name: Factor De Potencia CN Med\n",
            "\n",
            "No hay valores atipicos\n",
            "Name: Factor De Potencia Total Med\n"
          ],
          "name": "stdout"
        }
      ]
    }
  ]
}